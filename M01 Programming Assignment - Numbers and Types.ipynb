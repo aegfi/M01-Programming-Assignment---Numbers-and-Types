{
 "cells": [
  {
   "cell_type": "code",
   "execution_count": 3,
   "id": "20e91ca6",
   "metadata": {},
   "outputs": [
    {
     "name": "stdout",
     "output_type": "stream",
     "text": [
      "3600\n"
     ]
    }
   ],
   "source": [
    "3.1\n",
    "T=60*60\n",
    "print(T)"
   ]
  },
  {
   "cell_type": "code",
   "execution_count": 16,
   "id": "afe61d37",
   "metadata": {},
   "outputs": [],
   "source": [
    "3.2\n",
    "seconds_per_hour=3600"
   ]
  },
  {
   "cell_type": "code",
   "execution_count": 18,
   "id": "7857aa99",
   "metadata": {},
   "outputs": [
    {
     "data": {
      "text/plain": [
       "86400"
      ]
     },
     "execution_count": 18,
     "metadata": {},
     "output_type": "execute_result"
    }
   ],
   "source": [
    "3.3\n",
    "seconds_per_hour*24"
   ]
  },
  {
   "cell_type": "code",
   "execution_count": 19,
   "id": "f85c3dff",
   "metadata": {},
   "outputs": [],
   "source": [
    "3.4\n",
    "seconds_per_day=seconds_per_hour*24"
   ]
  },
  {
   "cell_type": "code",
   "execution_count": 20,
   "id": "5f45fa7b",
   "metadata": {},
   "outputs": [
    {
     "data": {
      "text/plain": [
       "24.0"
      ]
     },
     "execution_count": 20,
     "metadata": {},
     "output_type": "execute_result"
    }
   ],
   "source": [
    "3.5\n",
    "seconds_per_day/seconds_per_hour"
   ]
  },
  {
   "cell_type": "code",
   "execution_count": 21,
   "id": "8cc85069",
   "metadata": {},
   "outputs": [
    {
     "data": {
      "text/plain": [
       "24"
      ]
     },
     "execution_count": 21,
     "metadata": {},
     "output_type": "execute_result"
    }
   ],
   "source": [
    "3.6\n",
    "seconds_per_day//seconds_per_hour"
   ]
  },
  {
   "cell_type": "code",
   "execution_count": 22,
   "id": "474688b9",
   "metadata": {},
   "outputs": [
    {
     "name": "stdout",
     "output_type": "stream",
     "text": [
      "there is no difference beside the float\n"
     ]
    }
   ],
   "source": [
    "print(\"there is no difference beside the float\")"
   ]
  }
 ],
 "metadata": {
  "kernelspec": {
   "display_name": "Python 3 (ipykernel)",
   "language": "python",
   "name": "python3"
  },
  "language_info": {
   "codemirror_mode": {
    "name": "ipython",
    "version": 3
   },
   "file_extension": ".py",
   "mimetype": "text/x-python",
   "name": "python",
   "nbconvert_exporter": "python",
   "pygments_lexer": "ipython3",
   "version": "3.11.5"
  }
 },
 "nbformat": 4,
 "nbformat_minor": 5
}
